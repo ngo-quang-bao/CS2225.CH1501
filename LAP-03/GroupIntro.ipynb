{
  "nbformat": 4,
  "nbformat_minor": 0,
  "metadata": {
    "colab": {
      "name": "Untitled2.ipynb",
      "provenance": [],
      "authorship_tag": "ABX9TyOEuBihaGADI94NQkJHLtnU",
      "include_colab_link": true
    },
    "kernelspec": {
      "name": "python3",
      "display_name": "Python 3"
    }
  },
  "cells": [
    {
      "cell_type": "markdown",
      "metadata": {
        "id": "view-in-github",
        "colab_type": "text"
      },
      "source": [
        "<a href=\"https://colab.research.google.com/github/ngo-quang-bao/CS2225.CH1501/blob/master/LAP-03/GroupIntro.ipynb\" target=\"_parent\"><img src=\"https://colab.research.google.com/assets/colab-badge.svg\" alt=\"Open In Colab\"/></a>"
      ]
    },
    {
      "cell_type": "markdown",
      "metadata": {
        "id": "SmIfYYBKXKDq"
      },
      "source": [
        "THÀNH VIÊN NHÓM:\n",
        "- CH1802036 - Ngô Quang Bảo\n",
        "- CH1801034 - Trần Thanh Tâm\n",
        "\n",
        "MÔ TẢ ĐỒ ÁN CUỐI KỲ\n",
        "#Ứng dụng: Nhận dạng quả dứa chín và chưa chín để áp dụng vào thu hoạch dứa tại vườn\n",
        "1. Mô tả:\n",
        " - Ứng dụng Nhận dạng quả dứa chín và chưa chín để áp dụng vào thu hoạch dứa tại vườn là ứng dụng cho phép nhận dạng đối tượng (quả dứa) dựa trên hình dáng và màu sắc để xác định đối tượng đủ điều kiện thu hoạch hay chưa. Ứng dụng này có thể được dùng vào chế tạo máy thu hoạch dứa tự động thay thế cho hoạt động thu hoạch thủ công vốn được thực hiện bởi những người nông dân từ trước đến nay.\n",
        "1. In/out\n",
        " -\tĐầu vào: Hình ảnh quả dứa.\n",
        " -\tĐầu ra: cho biết quả dứa trong hình đã chín và có đủ điều kiện thu hoạch hay chưa.\n",
        "1. Những trang bị cần thiết:\n",
        " -\tData: Tập những hình ảnh quả dứa đã được phân loại chín hay chưa chín, hình ảnh bao gồm hình dáng và màu sắc của quả dứa, đã gắn nhãn chín hoặc chưa chín.\n",
        " -\tKiến thức: Machine learning, Deep learning, xử lý ảnh.\n",
        "Nội dung thực hiện:\n",
        " -\tThu nạp kiến thức về Machine learning, Deep learning và viết được ứng dụng đơn giản.\n",
        " -\tTìm hiểu về các ký thuật xử lý ảnh, nhận dạng ảnh, …\n",
        " -\tThu thập data hình ảnh quả dứa có gắn nhãn chín hoặc chưa chín thông qua khảo khát, chụp ảnh thực tế tại địa phương vùng chuyên canh dứa và có sự chỉ dẫn của người nông dân nghề trồng dứa.\n",
        "1. Kế hoạch thực hiện:\n",
        " -\t4 tuần: Học tập về Machine learning, Deep learning, xử lý ảnh.\n",
        " -\t1 tuần: Khảo sát vùng chuyên canh dứa, chụp hình, dán nhãn chín/chưa chín theo hướng dẫn của nông dân.\n",
        " -\t3 tuần: viết ứng dụng\n",
        " -\t2 tuần: hoàn thiện báo cáo\n"
      ]
    },
    {
      "cell_type": "code",
      "metadata": {
        "id": "OKd_zdE1QfmD"
      },
      "source": [
        ""
      ],
      "execution_count": null,
      "outputs": []
    }
  ]
}