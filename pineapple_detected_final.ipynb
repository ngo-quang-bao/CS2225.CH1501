{
  "nbformat": 4,
  "nbformat_minor": 0,
  "metadata": {
    "colab": {
      "name": "pineapple detected final.ipynb",
      "private_outputs": true,
      "provenance": [],
      "collapsed_sections": [],
      "authorship_tag": "ABX9TyO85k8Znp0ttBV/Fbw4EPAU",
      "include_colab_link": true
    },
    "kernelspec": {
      "name": "python3",
      "display_name": "Python 3"
    },
    "accelerator": "GPU"
  },
  "cells": [
    {
      "cell_type": "markdown",
      "metadata": {
        "id": "view-in-github",
        "colab_type": "text"
      },
      "source": [
        "<a href=\"https://colab.research.google.com/github/ngo-quang-bao/CS2225.CH1501/blob/master/pineapple_detected_final.ipynb\" target=\"_parent\"><img src=\"https://colab.research.google.com/assets/colab-badge.svg\" alt=\"Open In Colab\"/></a>"
      ]
    },
    {
      "cell_type": "code",
      "metadata": {
        "id": "jgqMMrNPunzT"
      },
      "source": [
        "from google.colab import drive\n",
        "drive.mount('/content/gdrive')\n",
        "%cd /gdrive"
      ],
      "execution_count": null,
      "outputs": []
    },
    {
      "cell_type": "code",
      "metadata": {
        "id": "Ekm6eF3SvLFV"
      },
      "source": [
        "%cd /content/\n",
        "!unzip /content/gdrive/MyDrive/ColabNotebooks/darknet.zip"
      ],
      "execution_count": null,
      "outputs": []
    },
    {
      "cell_type": "code",
      "metadata": {
        "id": "Ywy18by9w-np"
      },
      "source": [
        "%cd /content/darknet\n",
        "!make\n",
        "!chmod +x ./darknet"
      ],
      "execution_count": null,
      "outputs": []
    },
    {
      "cell_type": "code",
      "metadata": {
        "id": "UnN5wW7Nx1ql"
      },
      "source": [
        "!rm /content/darknet/backup -r \n",
        "!ln -s /content/gdrive/MyDrive/ColabNotebooks/backup /content/darknet"
      ],
      "execution_count": null,
      "outputs": []
    },
    {
      "cell_type": "code",
      "metadata": {
        "id": "454TVuIWyi7i"
      },
      "source": [
        "%cd /content/darknet/\n",
        "!./darknet detector train yolo.data cfg/yolov3.cfg darknet53.conv.74\n"
      ],
      "execution_count": null,
      "outputs": []
    },
    {
      "cell_type": "code",
      "metadata": {
        "id": "uKXUPIs90VJZ"
      },
      "source": [
        "!YOLO.py -i /content/armas (1).jpg -cl yolov3.txt -w yolov3.weights -c /content/darknet/cfg/yolov3.cfg"
      ],
      "execution_count": null,
      "outputs": []
    }
  ]
}